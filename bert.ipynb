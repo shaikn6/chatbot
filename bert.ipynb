{
 "cells": [
  {
   "cell_type": "code",
   "execution_count": 8,
   "id": "6c39b38c-ddd6-40cc-9b70-ff7c86e8d97c",
   "metadata": {},
   "outputs": [
    {
     "data": {
      "text/plain": [
       "('COMBINED-FOOD-DATA.csv',\n",
       "    Unnamed: 0.1  Unnamed: 0                              food  Caloric Value  \\\n",
       " 0             0           0                      cream cheese             51   \n",
       " 1             1           1                 neufchatel cheese            215   \n",
       " 2             2           2  requeijao cremoso light catupiry             49   \n",
       " 3             3           3                    ricotta cheese             30   \n",
       " 4             4           4              cream cheese low fat             30   \n",
       " \n",
       "     Fat  Saturated Fats  Monounsaturated Fats  Polyunsaturated Fats  \\\n",
       " 0   5.0             2.9                   1.3                 0.200   \n",
       " 1  19.4            10.9                   4.9                 0.800   \n",
       " 2   3.6             2.3                   0.9                 0.000   \n",
       " 3   2.0             1.3                   0.5                 0.002   \n",
       " 4   2.3             1.4                   0.6                 0.042   \n",
       " \n",
       "    Carbohydrates  Sugars  ...  Calcium  Copper   Iron  Magnesium  Manganese  \\\n",
       " 0            0.8   0.500  ...    0.008  14.100  0.082      0.027      1.300   \n",
       " 1            3.1   2.700  ...   99.500   0.034  0.100      8.500      0.088   \n",
       " 2            0.9   3.400  ...    0.000   0.000  0.000      0.000      0.000   \n",
       " 3            1.5   0.091  ...    0.097  41.200  0.097      0.096      4.000   \n",
       " 4            1.2   0.900  ...   22.200   0.072  0.008      1.200      0.098   \n",
       " \n",
       "    Phosphorus  Potassium  Selenium   Zinc  Nutrition Density  \n",
       " 0       0.091       15.5    19.100  0.039              7.070  \n",
       " 1     117.300      129.2     0.054  0.700            130.100  \n",
       " 2       0.000        0.0     0.000  0.000              5.400  \n",
       " 3       0.024       30.8    43.800  0.035              5.196  \n",
       " 4      22.800       37.1     0.034  0.053             27.007  \n",
       " \n",
       " [5 rows x 37 columns])"
      ]
     },
     "execution_count": 8,
     "metadata": {},
     "output_type": "execute_result"
    }
   ],
   "source": [
    "import pandas as pd\n",
    "\n",
    "# Paths to the uploaded CSV files\n",
    "file_paths = [\n",
    "    'FOOD-DATA-GROUP1.csv',\n",
    "    'FOOD-DATA-GROUP2.csv',\n",
    "    'FOOD-DATA-GROUP3.csv',\n",
    "    'FOOD-DATA-GROUP4.csv',\n",
    "    'FOOD-DATA-GROUP5.csv'\n",
    "]\n",
    "\n",
    "# Combine all CSV files into a single DataFrame\n",
    "combined_df = pd.concat((pd.read_csv(file) for file in file_paths), ignore_index=True)\n",
    "\n",
    "# Save the combined DataFrame into a new CSV file\n",
    "combined_csv_path = 'COMBINED-FOOD-DATA.csv'\n",
    "combined_df.to_csv(combined_csv_path, index=False)\n",
    "\n",
    "combined_csv_path, combined_df.head()\n"
   ]
  },
  {
   "cell_type": "code",
   "execution_count": 14,
   "id": "95e19327-a2c0-416c-ba1f-6941b6b1b530",
   "metadata": {},
   "outputs": [
    {
     "name": "stdout",
     "output_type": "stream",
     "text": [
      "Cleaned Dataset Preview:\n",
      "                               food  Caloric Value   Fat  Saturated Fats  \\\n",
      "0                      cream cheese             51   5.0             2.9   \n",
      "1                 neufchatel cheese            215  19.4            10.9   \n",
      "2  requeijao cremoso light catupiry             49   3.6             2.3   \n",
      "3                    ricotta cheese             30   2.0             1.3   \n",
      "4              cream cheese low fat             30   2.3             1.4   \n",
      "\n",
      "   Monounsaturated Fats  Polyunsaturated Fats  Carbohydrates  Sugars  Protein  \\\n",
      "0                   1.3                 0.200            0.8   0.500      0.9   \n",
      "1                   4.9                 0.800            3.1   2.700      7.8   \n",
      "2                   0.9                 0.000            0.9   3.400      0.8   \n",
      "3                   0.5                 0.002            1.5   0.091      1.5   \n",
      "4                   0.6                 0.042            1.2   0.900      1.2   \n",
      "\n",
      "   Dietary Fiber  ...  Copper   Iron  Magnesium  Manganese  Phosphorus  \\\n",
      "0            0.0  ...  14.100  0.082      0.027      1.300       0.091   \n",
      "1            0.0  ...   0.034  0.100      8.500      0.088     117.300   \n",
      "2            0.1  ...   0.000  0.000      0.000      0.000       0.000   \n",
      "3            0.0  ...  41.200  0.097      0.096      4.000       0.024   \n",
      "4            0.0  ...   0.072  0.008      1.200      0.098      22.800   \n",
      "\n",
      "   Potassium  Selenium   Zinc  Nutrition Density  label  \n",
      "0       15.5    19.100  0.039              7.070      0  \n",
      "1      129.2     0.054  0.700            130.100      1  \n",
      "2        0.0     0.000  0.000              5.400      0  \n",
      "3       30.8    43.800  0.035              5.196      0  \n",
      "4       37.1     0.034  0.053             27.007      0  \n",
      "\n",
      "[5 rows x 36 columns]\n"
     ]
    },
    {
     "name": "stderr",
     "output_type": "stream",
     "text": [
      "Some weights of BertForSequenceClassification were not initialized from the model checkpoint at bert-base-uncased and are newly initialized: ['classifier.bias', 'classifier.weight']\n",
      "You should probably TRAIN this model on a down-stream task to be able to use it for predictions and inference.\n"
     ]
    },
    {
     "name": "stdout",
     "output_type": "stream",
     "text": [
      "Device in use: mps\n"
     ]
    },
    {
     "data": {
      "application/vnd.jupyter.widget-view+json": {
       "model_id": "270ea855b1084f67a2007d22934e3442",
       "version_major": 2,
       "version_minor": 0
      },
      "text/plain": [
       "Map:   0%|          | 0/2395 [00:00<?, ? examples/s]"
      ]
     },
     "metadata": {},
     "output_type": "display_data"
    },
    {
     "data": {
      "text/html": [
       "\n",
       "    <div>\n",
       "      \n",
       "      <progress value='2160' max='2160' style='width:300px; height:20px; vertical-align: middle;'></progress>\n",
       "      [2160/2160 09:02, Epoch 9/9]\n",
       "    </div>\n",
       "    <table border=\"1\" class=\"dataframe\">\n",
       "  <thead>\n",
       " <tr style=\"text-align: left;\">\n",
       "      <th>Epoch</th>\n",
       "      <th>Training Loss</th>\n",
       "      <th>Validation Loss</th>\n",
       "      <th>Accuracy</th>\n",
       "    </tr>\n",
       "  </thead>\n",
       "  <tbody>\n",
       "    <tr>\n",
       "      <td>1</td>\n",
       "      <td>0.673600</td>\n",
       "      <td>0.685012</td>\n",
       "      <td>0.607516</td>\n",
       "    </tr>\n",
       "    <tr>\n",
       "      <td>2</td>\n",
       "      <td>0.700500</td>\n",
       "      <td>0.620454</td>\n",
       "      <td>0.670146</td>\n",
       "    </tr>\n",
       "    <tr>\n",
       "      <td>3</td>\n",
       "      <td>0.663700</td>\n",
       "      <td>0.746709</td>\n",
       "      <td>0.676409</td>\n",
       "    </tr>\n",
       "    <tr>\n",
       "      <td>4</td>\n",
       "      <td>0.506300</td>\n",
       "      <td>0.703973</td>\n",
       "      <td>0.676409</td>\n",
       "    </tr>\n",
       "    <tr>\n",
       "      <td>5</td>\n",
       "      <td>0.346900</td>\n",
       "      <td>1.213111</td>\n",
       "      <td>0.659708</td>\n",
       "    </tr>\n",
       "    <tr>\n",
       "      <td>6</td>\n",
       "      <td>0.366200</td>\n",
       "      <td>1.479922</td>\n",
       "      <td>0.661795</td>\n",
       "    </tr>\n",
       "    <tr>\n",
       "      <td>7</td>\n",
       "      <td>0.377900</td>\n",
       "      <td>1.628153</td>\n",
       "      <td>0.651357</td>\n",
       "    </tr>\n",
       "    <tr>\n",
       "      <td>8</td>\n",
       "      <td>0.250700</td>\n",
       "      <td>1.769095</td>\n",
       "      <td>0.672234</td>\n",
       "    </tr>\n",
       "    <tr>\n",
       "      <td>9</td>\n",
       "      <td>0.116600</td>\n",
       "      <td>1.875738</td>\n",
       "      <td>0.682672</td>\n",
       "    </tr>\n",
       "  </tbody>\n",
       "</table><p>"
      ],
      "text/plain": [
       "<IPython.core.display.HTML object>"
      ]
     },
     "metadata": {},
     "output_type": "display_data"
    },
    {
     "data": {
      "text/html": [
       "\n",
       "    <div>\n",
       "      \n",
       "      <progress value='60' max='60' style='width:300px; height:20px; vertical-align: middle;'></progress>\n",
       "      [60/60 00:03]\n",
       "    </div>\n",
       "    "
      ],
      "text/plain": [
       "<IPython.core.display.HTML object>"
      ]
     },
     "metadata": {},
     "output_type": "display_data"
    },
    {
     "name": "stdout",
     "output_type": "stream",
     "text": [
      "Evaluation Results: {'eval_loss': 1.8757377862930298, 'eval_accuracy': 0.6826722338204593, 'eval_runtime': 3.4558, 'eval_samples_per_second': 138.607, 'eval_steps_per_second': 17.362, 'epoch': 9.0}\n"
     ]
    },
    {
     "name": "stdin",
     "output_type": "stream",
     "text": [
      "\n",
      "Enter a food item to check its health status (or type 'exit' to quit, 'list' for list of foods):  quit\n"
     ]
    },
    {
     "name": "stdout",
     "output_type": "stream",
     "text": [
      "The health status of 'quit' is: Healthy\n"
     ]
    },
    {
     "name": "stdin",
     "output_type": "stream",
     "text": [
      "\n",
      "Enter a food item to check its health status (or type 'exit' to quit, 'list' for list of foods):  quit\n"
     ]
    },
    {
     "name": "stdout",
     "output_type": "stream",
     "text": [
      "The health status of 'quit' is: Healthy\n"
     ]
    },
    {
     "name": "stdin",
     "output_type": "stream",
     "text": [
      "\n",
      "Enter a food item to check its health status (or type 'exit' to quit, 'list' for list of foods):  exit\n"
     ]
    },
    {
     "name": "stdout",
     "output_type": "stream",
     "text": [
      "Exiting the program. Goodbye!\n"
     ]
    }
   ],
   "source": [
    "import pandas as pd\n",
    "from transformers import BertTokenizer, BertForSequenceClassification, Trainer, TrainingArguments\n",
    "from datasets import Dataset\n",
    "import torch\n",
    "from sklearn.metrics import accuracy_score\n",
    "\n",
    "# Step 1: Load and View the Data\n",
    "file_path = 'COMBINED-FOOD-DATA.csv'\n",
    "df = pd.read_csv(file_path)\n",
    "\n",
    "# Clean the data (remove unnecessary columns)\n",
    "df_cleaned = df.drop(columns=['Unnamed: 0', 'Unnamed: 0.1'])\n",
    "\n",
    "# Assume a food item is healthy if its \"Nutrition Density\" is higher than the median\n",
    "median_nutrition_density = df_cleaned['Nutrition Density'].median()\n",
    "\n",
    "# Assign label: 1 (Healthy) if Nutrition Density > median, else 0 (Unhealthy)\n",
    "df_cleaned['label'] = df_cleaned['Nutrition Density'].apply(lambda x: 1 if x > median_nutrition_density else 0)\n",
    "\n",
    "# Display the cleaned dataset\n",
    "print(\"Cleaned Dataset Preview:\")\n",
    "print(df_cleaned.head())\n",
    "\n",
    "# Convert to Hugging Face Dataset\n",
    "dataset = Dataset.from_pandas(df_cleaned[['food', 'label']])\n",
    "\n",
    "# Step 2: Tokenizer and Model Setup\n",
    "tokenizer = BertTokenizer.from_pretrained('bert-base-uncased')\n",
    "model = BertForSequenceClassification.from_pretrained('bert-base-uncased', num_labels=2)\n",
    "\n",
    "# Check for MPS device (e.g., Apple silicon), otherwise default to CPU\n",
    "device = torch.device(\"mps\" if torch.backends.mps.is_available() else \"cpu\")\n",
    "model.to(device)\n",
    "print(f\"Device in use: {device}\")\n",
    "\n",
    "# Tokenize function\n",
    "def tokenize_function(examples):\n",
    "    return tokenizer(examples['food'], padding=\"max_length\", truncation=True, max_length=128)\n",
    "\n",
    "# Apply tokenizer\n",
    "tokenized_dataset = dataset.map(tokenize_function, batched=True)\n",
    "\n",
    "# Split dataset into train and test sets\n",
    "dataset_split = tokenized_dataset.train_test_split(test_size=0.2)\n",
    "train_dataset = dataset_split['train']\n",
    "test_dataset = dataset_split['test']\n",
    "\n",
    "# Step 3: Define Metrics (Accuracy)\n",
    "def compute_metrics(p):\n",
    "    preds = p.predictions.argmax(axis=-1)  # predicted labels\n",
    "    labels = p.label_ids  # true labels\n",
    "    acc = accuracy_score(labels, preds)  # accuracy\n",
    "    return {\"accuracy\": acc}\n",
    "\n",
    "# Step 4: Training the Model\n",
    "training_args = TrainingArguments(\n",
    "    output_dir='./results',\n",
    "    num_train_epochs=9,\n",
    "    per_device_train_batch_size=8,\n",
    "    per_device_eval_batch_size=8,\n",
    "    eval_strategy=\"epoch\",  # Updated parameter name\n",
    "    save_strategy=\"epoch\",\n",
    "    logging_dir='./logs',\n",
    "    logging_steps=10,\n",
    "    load_best_model_at_end=True,\n",
    "    metric_for_best_model='accuracy',\n",
    ")\n",
    "\n",
    "trainer = Trainer(\n",
    "    model=model,\n",
    "    args=training_args,\n",
    "    train_dataset=train_dataset,\n",
    "    eval_dataset=test_dataset,\n",
    "    compute_metrics=compute_metrics,  # tokenizer parameter removed\n",
    ")\n",
    "\n",
    "\n",
    "# Train the model\n",
    "trainer.train()\n",
    "\n",
    "# Save the trained model\n",
    "trainer.save_model('./final_model')\n",
    "\n",
    "# Evaluate the model\n",
    "results = trainer.evaluate()\n",
    "print(\"Evaluation Results:\", results)\n",
    "\n",
    "# Step 5: Dynamic User Interaction\n",
    "healthy_foods = set()\n",
    "unhealthy_foods = set()\n",
    "\n",
    "# Prediction function\n",
    "def predict_health_status(food_item):\n",
    "    inputs = tokenizer(food_item, return_tensors=\"pt\", padding=True, truncation=True, max_length=128).to(device)\n",
    "    with torch.no_grad():\n",
    "        outputs = model(**inputs)\n",
    "        prediction = torch.argmax(outputs.logits, dim=-1)\n",
    "    return \"Healthy\" if prediction.item() == 1 else \"Unhealthy\"\n",
    "\n",
    "# User interaction function\n",
    "def user_interaction():\n",
    "    while True:\n",
    "        user_input = input(\"\\nEnter a food item to check its health status (or type 'exit' to quit, 'list' for list of foods): \")\n",
    "\n",
    "        if user_input.lower() == 'exit':\n",
    "            print(\"Exiting the program. Goodbye!\")\n",
    "            break\n",
    "        elif user_input.lower() == 'list':\n",
    "            print(\"\\nHealthy Foods List:\")\n",
    "            for food in healthy_foods:\n",
    "                print(f\"- {food}\")\n",
    "            print(\"\\nUnhealthy Foods List:\")\n",
    "            for food in unhealthy_foods:\n",
    "                print(f\"- {food}\")\n",
    "        else:\n",
    "            health_status = predict_health_status(user_input)\n",
    "            print(f\"The health status of '{user_input}' is: {health_status}\")\n",
    "\n",
    "            if health_status == \"Healthy\":\n",
    "                healthy_foods.add(user_input)\n",
    "            else:\n",
    "                unhealthy_foods.add(user_input)\n",
    "\n",
    "# Step 6: Start user interaction\n",
    "user_interaction()\n"
   ]
  },
  {
   "cell_type": "code",
   "execution_count": null,
   "id": "7f74a1ce-542c-4bca-9777-0075828cb02f",
   "metadata": {},
   "outputs": [
    {
     "name": "stdout",
     "output_type": "stream",
     "text": [
      "Cleaned Dataset Preview:\n",
      "                               food  Caloric Value   Fat  Saturated Fats  \\\n",
      "0                      cream cheese             51   5.0             2.9   \n",
      "1                 neufchatel cheese            215  19.4            10.9   \n",
      "2  requeijao cremoso light catupiry             49   3.6             2.3   \n",
      "3                    ricotta cheese             30   2.0             1.3   \n",
      "4              cream cheese low fat             30   2.3             1.4   \n",
      "\n",
      "   Monounsaturated Fats  Polyunsaturated Fats  Carbohydrates  Sugars  Protein  \\\n",
      "0                   1.3                 0.200            0.8   0.500      0.9   \n",
      "1                   4.9                 0.800            3.1   2.700      7.8   \n",
      "2                   0.9                 0.000            0.9   3.400      0.8   \n",
      "3                   0.5                 0.002            1.5   0.091      1.5   \n",
      "4                   0.6                 0.042            1.2   0.900      1.2   \n",
      "\n",
      "   Dietary Fiber  ...  Copper   Iron  Magnesium  Manganese  Phosphorus  \\\n",
      "0            0.0  ...  14.100  0.082      0.027      1.300       0.091   \n",
      "1            0.0  ...   0.034  0.100      8.500      0.088     117.300   \n",
      "2            0.1  ...   0.000  0.000      0.000      0.000       0.000   \n",
      "3            0.0  ...  41.200  0.097      0.096      4.000       0.024   \n",
      "4            0.0  ...   0.072  0.008      1.200      0.098      22.800   \n",
      "\n",
      "   Potassium  Selenium   Zinc  Nutrition Density  label  \n",
      "0       15.5    19.100  0.039              7.070      0  \n",
      "1      129.2     0.054  0.700            130.100      1  \n",
      "2        0.0     0.000  0.000              5.400      0  \n",
      "3       30.8    43.800  0.035              5.196      0  \n",
      "4       37.1     0.034  0.053             27.007      0  \n",
      "\n",
      "[5 rows x 36 columns]\n"
     ]
    },
    {
     "name": "stderr",
     "output_type": "stream",
     "text": [
      "Some weights of BertForSequenceClassification were not initialized from the model checkpoint at bert-base-uncased and are newly initialized: ['classifier.bias', 'classifier.weight']\n",
      "You should probably TRAIN this model on a down-stream task to be able to use it for predictions and inference.\n"
     ]
    },
    {
     "name": "stdout",
     "output_type": "stream",
     "text": [
      "Device in use: mps\n"
     ]
    },
    {
     "data": {
      "application/vnd.jupyter.widget-view+json": {
       "model_id": "6d16a3c927cf4c13a4af035ababafdda",
       "version_major": 2,
       "version_minor": 0
      },
      "text/plain": [
       "Map:   0%|          | 0/2395 [00:00<?, ? examples/s]"
      ]
     },
     "metadata": {},
     "output_type": "display_data"
    },
    {
     "data": {
      "text/html": [
       "\n",
       "    <div>\n",
       "      \n",
       "      <progress value='600' max='600' style='width:300px; height:20px; vertical-align: middle;'></progress>\n",
       "      [600/600 06:23, Epoch 5/5]\n",
       "    </div>\n",
       "    <table border=\"1\" class=\"dataframe\">\n",
       "  <thead>\n",
       " <tr style=\"text-align: left;\">\n",
       "      <th>Epoch</th>\n",
       "      <th>Training Loss</th>\n",
       "      <th>Validation Loss</th>\n",
       "      <th>Accuracy</th>\n",
       "    </tr>\n",
       "  </thead>\n",
       "  <tbody>\n",
       "    <tr>\n",
       "      <td>1</td>\n",
       "      <td>0.646700</td>\n",
       "      <td>0.662393</td>\n",
       "      <td>0.626305</td>\n",
       "    </tr>\n",
       "    <tr>\n",
       "      <td>2</td>\n",
       "      <td>0.623200</td>\n",
       "      <td>0.630119</td>\n",
       "      <td>0.659708</td>\n",
       "    </tr>\n",
       "    <tr>\n",
       "      <td>3</td>\n",
       "      <td>0.506200</td>\n",
       "      <td>0.660168</td>\n",
       "      <td>0.659708</td>\n",
       "    </tr>\n",
       "    <tr>\n",
       "      <td>4</td>\n",
       "      <td>0.491300</td>\n",
       "      <td>0.711999</td>\n",
       "      <td>0.672234</td>\n",
       "    </tr>\n",
       "    <tr>\n",
       "      <td>5</td>\n",
       "      <td>0.378300</td>\n",
       "      <td>0.739826</td>\n",
       "      <td>0.676409</td>\n",
       "    </tr>\n",
       "  </tbody>\n",
       "</table><p>"
      ],
      "text/plain": [
       "<IPython.core.display.HTML object>"
      ]
     },
     "metadata": {},
     "output_type": "display_data"
    },
    {
     "data": {
      "text/html": [
       "\n",
       "    <div>\n",
       "      \n",
       "      <progress value='30' max='30' style='width:300px; height:20px; vertical-align: middle;'></progress>\n",
       "      [30/30 15:24]\n",
       "    </div>\n",
       "    "
      ],
      "text/plain": [
       "<IPython.core.display.HTML object>"
      ]
     },
     "metadata": {},
     "output_type": "display_data"
    },
    {
     "name": "stdout",
     "output_type": "stream",
     "text": [
      "Evaluation Results: {'eval_loss': 0.7398261427879333, 'eval_accuracy': 0.6764091858037579, 'eval_runtime': 924.4953, 'eval_samples_per_second': 0.518, 'eval_steps_per_second': 0.032, 'epoch': 5.0}\n"
     ]
    },
    {
     "name": "stdin",
     "output_type": "stream",
     "text": [
      "\n",
      "Enter a food item (type 'exit' to quit, 'list' for list, 'clear' to clear lists):  chicken\n"
     ]
    },
    {
     "name": "stdout",
     "output_type": "stream",
     "text": [
      "The health status of 'chicken' is: Unhealthy\n"
     ]
    },
    {
     "name": "stdin",
     "output_type": "stream",
     "text": [
      "\n",
      "Enter a food item (type 'exit' to quit, 'list' for list, 'clear' to clear lists):  cheese\n"
     ]
    },
    {
     "name": "stdout",
     "output_type": "stream",
     "text": [
      "The health status of 'cheese' is: Healthy\n"
     ]
    },
    {
     "name": "stdin",
     "output_type": "stream",
     "text": [
      "\n",
      "Enter a food item (type 'exit' to quit, 'list' for list, 'clear' to clear lists):  water\n"
     ]
    },
    {
     "name": "stdout",
     "output_type": "stream",
     "text": [
      "The health status of 'water' is: Unhealthy\n"
     ]
    },
    {
     "name": "stdin",
     "output_type": "stream",
     "text": [
      "\n",
      "Enter a food item (type 'exit' to quit, 'list' for list, 'clear' to clear lists):  juice\n"
     ]
    },
    {
     "name": "stdout",
     "output_type": "stream",
     "text": [
      "The health status of 'juice' is: Unhealthy\n"
     ]
    },
    {
     "name": "stdin",
     "output_type": "stream",
     "text": [
      "\n",
      "Enter a food item (type 'exit' to quit, 'list' for list, 'clear' to clear lists):  soda\n"
     ]
    },
    {
     "name": "stdout",
     "output_type": "stream",
     "text": [
      "The health status of 'soda' is: Unhealthy\n"
     ]
    },
    {
     "name": "stdin",
     "output_type": "stream",
     "text": [
      "\n",
      "Enter a food item (type 'exit' to quit, 'list' for list, 'clear' to clear lists):  mango\n"
     ]
    },
    {
     "name": "stdout",
     "output_type": "stream",
     "text": [
      "The health status of 'mango' is: Unhealthy\n"
     ]
    },
    {
     "name": "stdin",
     "output_type": "stream",
     "text": [
      "\n",
      "Enter a food item (type 'exit' to quit, 'list' for list, 'clear' to clear lists):  meat\n"
     ]
    },
    {
     "name": "stdout",
     "output_type": "stream",
     "text": [
      "The health status of 'meat' is: Unhealthy\n"
     ]
    },
    {
     "name": "stdin",
     "output_type": "stream",
     "text": [
      "\n",
      "Enter a food item (type 'exit' to quit, 'list' for list, 'clear' to clear lists):  fish\n"
     ]
    },
    {
     "name": "stdout",
     "output_type": "stream",
     "text": [
      "The health status of 'fish' is: Unhealthy\n"
     ]
    },
    {
     "name": "stdin",
     "output_type": "stream",
     "text": [
      "\n",
      "Enter a food item (type 'exit' to quit, 'list' for list, 'clear' to clear lists):  crab\n"
     ]
    },
    {
     "name": "stdout",
     "output_type": "stream",
     "text": [
      "The health status of 'crab' is: Unhealthy\n"
     ]
    },
    {
     "name": "stdin",
     "output_type": "stream",
     "text": [
      "\n",
      "Enter a food item (type 'exit' to quit, 'list' for list, 'clear' to clear lists):  sea food\n"
     ]
    },
    {
     "name": "stdout",
     "output_type": "stream",
     "text": [
      "The health status of 'sea food' is: Unhealthy\n"
     ]
    },
    {
     "name": "stdin",
     "output_type": "stream",
     "text": [
      "\n",
      "Enter a food item (type 'exit' to quit, 'list' for list, 'clear' to clear lists):  foood\n"
     ]
    },
    {
     "name": "stdout",
     "output_type": "stream",
     "text": [
      "The health status of 'foood' is: Unhealthy\n"
     ]
    },
    {
     "name": "stdin",
     "output_type": "stream",
     "text": [
      "\n",
      "Enter a food item (type 'exit' to quit, 'list' for list, 'clear' to clear lists):  food\n"
     ]
    },
    {
     "name": "stdout",
     "output_type": "stream",
     "text": [
      "The health status of 'food' is: Unhealthy\n"
     ]
    },
    {
     "name": "stdin",
     "output_type": "stream",
     "text": [
      "\n",
      "Enter a food item (type 'exit' to quit, 'list' for list, 'clear' to clear lists):  drink\n"
     ]
    },
    {
     "name": "stdout",
     "output_type": "stream",
     "text": [
      "The health status of 'drink' is: Unhealthy\n"
     ]
    },
    {
     "name": "stdin",
     "output_type": "stream",
     "text": [
      "\n",
      "Enter a food item (type 'exit' to quit, 'list' for list, 'clear' to clear lists):  pizza\n"
     ]
    },
    {
     "name": "stdout",
     "output_type": "stream",
     "text": [
      "The health status of 'pizza' is: Healthy\n"
     ]
    }
   ],
   "source": [
    "import pandas as pd\n",
    "from transformers import BertTokenizer, BertForSequenceClassification, Trainer, TrainingArguments\n",
    "from datasets import Dataset\n",
    "import torch\n",
    "from sklearn.metrics import accuracy_score\n",
    "\n",
    "# Step 1: Load and View the Data\n",
    "file_path = 'COMBINED-FOOD-DATA.csv'\n",
    "df = pd.read_csv(file_path)\n",
    "\n",
    "# Clean the data (remove unnecessary columns)\n",
    "df_cleaned = df.drop(columns=['Unnamed: 0', 'Unnamed: 0.1']).dropna()\n",
    "\n",
    "# Assume a food item is healthy if its \"Nutrition Density\" is higher than the median\n",
    "median_nutrition_density = df_cleaned['Nutrition Density'].median()\n",
    "\n",
    "# Assign label: 1 (Healthy) if Nutrition Density > median, else 0 (Unhealthy)\n",
    "df_cleaned['label'] = df_cleaned['Nutrition Density'].apply(lambda x: 1 if x > median_nutrition_density else 0)\n",
    "\n",
    "# Display the cleaned dataset\n",
    "print(\"Cleaned Dataset Preview:\")\n",
    "print(df_cleaned.head())\n",
    "\n",
    "# Convert to Hugging Face Dataset\n",
    "dataset = Dataset.from_pandas(df_cleaned[['food', 'label']])\n",
    "\n",
    "# Step 2: Tokenizer and Model Setup\n",
    "tokenizer = BertTokenizer.from_pretrained('bert-base-uncased')\n",
    "model = BertForSequenceClassification.from_pretrained('bert-base-uncased', num_labels=2)\n",
    "\n",
    "# Check for MPS device (e.g., Apple silicon), otherwise default to CPU\n",
    "device = torch.device(\"cuda\" if torch.cuda.is_available() else (\"mps\" if torch.backends.mps.is_available() else \"cpu\"))\n",
    "model.to(device)\n",
    "print(f\"Device in use: {device}\")\n",
    "\n",
    "# Tokenize function\n",
    "def tokenize_function(examples):\n",
    "    return tokenizer(examples['food'], padding=\"max_length\", truncation=True, max_length=128)\n",
    "\n",
    "# Apply tokenizer\n",
    "tokenized_dataset = dataset.map(tokenize_function, batched=True)\n",
    "\n",
    "# Split dataset into train and test sets\n",
    "dataset_split = tokenized_dataset.train_test_split(test_size=0.2, seed=42)\n",
    "train_dataset = dataset_split['train']\n",
    "test_dataset = dataset_split['test']\n",
    "\n",
    "# Step 3: Define Metrics (Accuracy)\n",
    "def compute_metrics(p):\n",
    "    preds = p.predictions.argmax(axis=-1)\n",
    "    labels = p.label_ids\n",
    "    acc = accuracy_score(labels, preds)\n",
    "    return {\"accuracy\": acc}\n",
    "\n",
    "# Step 4: Training the Model\n",
    "training_args = TrainingArguments(\n",
    "    output_dir='./results',\n",
    "    num_train_epochs=5,\n",
    "    per_device_train_batch_size=16,\n",
    "    per_device_eval_batch_size=16,\n",
    "    eval_strategy=\"epoch\",\n",
    "    save_strategy=\"epoch\",\n",
    "    logging_dir='./logs',\n",
    "    logging_steps=20,\n",
    "    load_best_model_at_end=True,\n",
    "    metric_for_best_model='accuracy',\n",
    "    learning_rate=2e-5,\n",
    "    weight_decay=0.01,\n",
    "    warmup_steps=100,\n",
    ")\n",
    "\n",
    "trainer = Trainer(\n",
    "    model=model,\n",
    "    args=training_args,\n",
    "    train_dataset=train_dataset,\n",
    "    eval_dataset=test_dataset,\n",
    "    compute_metrics=compute_metrics,\n",
    ")\n",
    "\n",
    "# Train the model\n",
    "trainer.train()\n",
    "\n",
    "# Save the trained model\n",
    "trainer.save_model('./final_model')\n",
    "\n",
    "# Evaluate the model\n",
    "results = trainer.evaluate()\n",
    "print(\"Evaluation Results:\", results)\n",
    "\n",
    "# Step 5: Dynamic User Interaction\n",
    "healthy_foods = set()\n",
    "unhealthy_foods = set()\n",
    "\n",
    "# Prediction function\n",
    "def predict_health_status(food_item):\n",
    "    inputs = tokenizer(food_item, return_tensors=\"pt\", padding=True, truncation=True, max_length=128).to(device)\n",
    "    with torch.no_grad():\n",
    "        outputs = model(**inputs)\n",
    "        prediction = torch.argmax(outputs.logits, dim=-1)\n",
    "    return \"Healthy\" if prediction.item() == 1 else \"Unhealthy\"\n",
    "\n",
    "# Enhanced user interaction function\n",
    "def user_interaction():\n",
    "    while True:\n",
    "        user_input = input(\"\\nEnter a food item (type 'exit' to quit, 'list' for list, 'clear' to clear lists): \").strip()\n",
    "\n",
    "        if not user_input:\n",
    "            print(\"Please enter a valid food item.\")\n",
    "            continue\n",
    "        elif user_input.lower() == 'exit':\n",
    "            print(\"Exiting the program. Goodbye!\")\n",
    "            break\n",
    "        elif user_input.lower() == 'list':\n",
    "            if healthy_foods:\n",
    "                print(\"\\nHealthy Foods List:\")\n",
    "                for food in healthy_foods:\n",
    "                    print(f\"- {food}\")\n",
    "            else:\n",
    "                print(\"\\nNo healthy foods yet.\")\n",
    "\n",
    "            if unhealthy_foods:\n",
    "                print(\"\\nUnhealthy Foods List:\")\n",
    "                for food in unhealthy_foods:\n",
    "                    print(f\"- {food}\")\n",
    "            else:\n",
    "                print(\"\\nNo unhealthy foods yet.\")\n",
    "        elif user_input.lower() == 'clear':\n",
    "            healthy_foods.clear()\n",
    "            unhealthy_foods.clear()\n",
    "            print(\"\\nFood lists have been cleared.\")\n",
    "        else:\n",
    "            health_status = predict_health_status(user_input)\n",
    "            print(f\"The health status of '{user_input}' is: {health_status}\")\n",
    "\n",
    "            if health_status == \"Healthy\":\n",
    "                healthy_foods.add(user_input)\n",
    "            else:\n",
    "                unhealthy_foods.add(user_input)\n",
    "\n",
    "# Step 6: Start user interaction\n",
    "user_interaction()\n"
   ]
  },
  {
   "cell_type": "code",
   "execution_count": null,
   "id": "6747ebae-d676-45f6-94ef-773189f932d2",
   "metadata": {},
   "outputs": [],
   "source": []
  }
 ],
 "metadata": {
  "kernelspec": {
   "display_name": "Python [conda env:base] *",
   "language": "python",
   "name": "conda-base-py"
  },
  "language_info": {
   "codemirror_mode": {
    "name": "ipython",
    "version": 3
   },
   "file_extension": ".py",
   "mimetype": "text/x-python",
   "name": "python",
   "nbconvert_exporter": "python",
   "pygments_lexer": "ipython3",
   "version": "3.12.7"
  }
 },
 "nbformat": 4,
 "nbformat_minor": 5
}
